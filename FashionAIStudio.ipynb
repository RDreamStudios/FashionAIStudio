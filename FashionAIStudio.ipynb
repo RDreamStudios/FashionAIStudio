{
  "nbformat": 4,
  "nbformat_minor": 0,
  "metadata": {
    "colab": {
      "private_outputs": true,
      "provenance": [],
      "include_colab_link": true
    },
    "kernelspec": {
      "name": "python3",
      "display_name": "Python 3"
    },
    "language_info": {
      "name": "python"
    },
    "accelerator": "GPU",
    "gpuClass": "standard"
  },
  "cells": [
    {
      "cell_type": "markdown",
      "metadata": {
        "id": "view-in-github",
        "colab_type": "text"
      },
      "source": [
        "<a href=\"https://colab.research.google.com/github/RDreamStudios/FashionAIStudio/blob/main/FashionAIStudio.ipynb\" target=\"_parent\"><img src=\"https://colab.research.google.com/assets/colab-badge.svg\" alt=\"Open In Colab\"/></a>"
      ]
    },
    {
      "cell_type": "code",
      "source": [
        "%pip install --quiet --upgrade diffusers transformers accelerate mediapy"
      ],
      "metadata": {
        "id": "ufD_d64nr08H"
      },
      "execution_count": null,
      "outputs": []
    },
    {
      "cell_type": "code",
      "source": [
        "import mediapy as media\n",
        "import random\n",
        "import sys\n",
        "import torch\n",
        "\n",
        "from diffusers import AutoPipelineForText2Image\n",
        "\n",
        "pipe = AutoPipelineForText2Image.from_pretrained(\n",
        "    \"stabilityai/sdxl-turbo\",\n",
        "    torch_dtype=torch.float16,\n",
        "    use_safetensors=True,\n",
        "    variant=\"fp16\",\n",
        "    )\n",
        "\n",
        "pipe = pipe.to(\"cuda\")"
      ],
      "metadata": {
        "id": "bG2hkmSEvByV"
      },
      "execution_count": null,
      "outputs": []
    },
    {
      "cell_type": "code",
      "source": [
        "# Solicitar información al usuario\n",
        "topwear = input(\"Ingrese el tipo de prenda superior que desea (por ejemplo, camisa, blusa, chaqueta): \") #example: \"shirt white, man\"\n",
        "bottomwear = input(\"Ingrese el tipo de prenda inferior que desea (por ejemplo, pantalones, falda, shorts): \") #example: \"jeans\"\n",
        "accessories = input(\"¿Desea agregar algún accesorio? Si es así, ¿cuál? \") #nothing and enter\n",
        "\n",
        "# Crear el prompt basado en las preferencias del usuario\n",
        "prompt = f\"Generar un diseño de moda único y espectacular. La prenda superior debe ser una {topwear}, la prenda inferior unos {bottomwear}, y como accesorios incluir {accessories}. El diseño debe ser fotorealista, con una iluminación cinematográfica y detalles hiperrealistas. Utilizar una composición cinematográfica, con un enfoque en la innovación y la tecnología. Agregar elementos de alta tecnología, como un casco de nanotecnología y joyas de última generación. La modelo debe lucir elegante y dinámica, con una pose impactante y una expresión facial cautivadora. this stunning image is rendered in insanely high resolution, realistic, HD, HDR, XDR, focus + sharpen + wide-angle 8K resolution + Adobe Lightroom + rule-of-thirds --ar 9:16\"\n",
        "\n",
        "# Generar el diseño de moda\n",
        "seed = random.randint(0, sys.maxsize)\n",
        "num_inference_steps = 4\n",
        "images = pipe(\n",
        "    prompt=prompt,\n",
        "    guidance_scale=0.0,\n",
        "    num_inference_steps=num_inference_steps,\n",
        "    generator=torch.Generator(\"cuda\").manual_seed(seed),\n",
        ").images\n",
        "\n",
        "# Mostrar el diseño generado\n",
        "print(f\"Prompt:\\t{prompt}\\nSeed:\\t{seed}\")\n",
        "media.show_images(images)\n",
        "images[0].save(\"output.jpg\")"
      ],
      "metadata": {
        "id": "AUc4QJfE-uR9"
      },
      "execution_count": null,
      "outputs": []
    }
  ]
}